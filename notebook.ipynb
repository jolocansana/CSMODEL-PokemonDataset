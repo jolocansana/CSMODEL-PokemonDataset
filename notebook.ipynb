{
 "metadata": {
  "language_info": {
   "codemirror_mode": {
    "name": "ipython",
    "version": 3
   },
   "file_extension": ".py",
   "mimetype": "text/x-python",
   "name": "python",
   "nbconvert_exporter": "python",
   "pygments_lexer": "ipython3",
   "version": "3.8.2-final"
  },
  "orig_nbformat": 2,
  "kernelspec": {
   "name": "python_defaultSpec_1600424302372",
   "display_name": "Python 3.8.2 64-bit"
  }
 },
 "nbformat": 4,
 "nbformat_minor": 2,
 "cells": [
  {
   "source": [
    "# CSMODEL Machine Project\n",
    "![](assets/logo.png)\n",
    "<br /> <br /> <br /> <br />\n",
    "## Image Processing and Data Visualization of a Pokemon Dataset\n",
    "<br /> <br />\n",
    "**Section** S13 <br />\n",
    "**Team Members:**\n",
    "- Jose Lorenzo M. Cansana\n",
    "- Gabriel Rasheed Jamalul\n",
    "- Sean Michael Pe\n",
    "\n",
    "<br /><br />\n",
    "**SUBMIT DATE**"
   ],
   "cell_type": "markdown",
   "metadata": {}
  },
  {
   "source": [
    "---"
   ],
   "cell_type": "markdown",
   "metadata": {}
  },
  {
   "source": [
    "## 1. Introduction to Pokemon\n"
   ],
   "cell_type": "markdown",
   "metadata": {}
  },
  {
   "source": [
    "## 2. Deep dive into Pokemon"
   ],
   "cell_type": "markdown",
   "metadata": {}
  },
  {
   "source": [
    "## 3. The Research Questions"
   ],
   "cell_type": "markdown",
   "metadata": {}
  },
  {
   "source": [
    "## 4. Overview on the Dataset"
   ],
   "cell_type": "markdown",
   "metadata": {}
  },
  {
   "source": [
    "## 5. Exploring the Dataset"
   ],
   "cell_type": "markdown",
   "metadata": {}
  },
  {
   "source": [
    "## 6. Finding the correlation of the dominant color of Pokemon sprites and their types"
   ],
   "cell_type": "markdown",
   "metadata": {}
  }
 ]
}